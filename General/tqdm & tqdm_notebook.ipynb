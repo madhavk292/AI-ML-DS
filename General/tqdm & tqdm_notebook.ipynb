{
 "cells": [
  {
   "cell_type": "code",
   "execution_count": 1,
   "id": "88fd6358-da23-470a-8c4a-3b4d2610b072",
   "metadata": {},
   "outputs": [
    {
     "name": "stderr",
     "output_type": "stream",
     "text": [
      "100%|██████████████████████████████████████████████████████████████████████████████████████████████████████████████████████████████████████| 20/20 [00:10<00:00,  1.99it/s]\n",
      "tqdm() Progress Bar: 100%|█████████████████████████████████████████████████████████████████████████████████████████████████████████████████| 20/20 [00:10<00:00,  1.99it/s]\n"
     ]
    },
    {
     "data": {
      "application/vnd.jupyter.widget-view+json": {
       "model_id": "c96ae2d403b64e6a95a6d9e28aee1b98",
       "version_major": 2,
       "version_minor": 0
      },
      "text/plain": [
       "  0%|          | 0/10 [00:00<?, ?it/s]"
      ]
     },
     "metadata": {},
     "output_type": "display_data"
    }
   ],
   "source": [
    "import time\n",
    "from tqdm.notebook import tqdm_notebook\n",
    "from tqdm import tqdm\n",
    "\n",
    "for i in tqdm(range(20)):\n",
    "    time.sleep(0.5)\n",
    "\n",
    "for i in tqdm(range(20), desc = 'tqdm() Progress Bar'):\n",
    "    time.sleep(0.5)\n",
    "\n",
    "for i in tqdm_notebook(range(10)):\n",
    "    time.sleep(0.5)"
   ]
  },
  {
   "cell_type": "code",
   "execution_count": 2,
   "id": "6d43eeb8-b985-4aa6-b7d9-230ee8ff6dab",
   "metadata": {},
   "outputs": [
    {
     "data": {
      "application/vnd.jupyter.widget-view+json": {
       "model_id": "c0a0195cdf3b4f2eb6355b24766e44a3",
       "version_major": 2,
       "version_minor": 0
      },
      "text/plain": [
       "  0%|          | 0/7043 [00:00<?, ?it/s]"
      ]
     },
     "metadata": {},
     "output_type": "display_data"
    }
   ],
   "source": [
    "import pandas as pd\n",
    "df = pd.read_csv(\"WA_Fn-UseC_-Telco-Customer-Churn.csv\")\n",
    "df.head()\n",
    "tqdm_notebook.pandas()\n",
    "df['Churn'] = df['Churn'].progress_apply(lambda x: 1 if x == 'Yes' else 0) #converting the 'Churn' column to a binary format where 'Yes' is converted to 1 and any other value is converted to 0. "
   ]
  },
  {
   "cell_type": "code",
   "execution_count": 3,
   "id": "aaef4180-ae33-479e-a63b-60a6f4e77b92",
   "metadata": {},
   "outputs": [
    {
     "name": "stderr",
     "output_type": "stream",
     "text": [
      "Loop 1:   0%|                                                                                                                                        | 0/2 [00:00<?, ?it/s]\n",
      "Loop 2:   0%|                                                                                                                                        | 0/5 [00:00<?, ?it/s]\u001b[A\n",
      "Loop 2:  20%|█████████████████████████▌                                                                                                      | 1/5 [00:00<00:02,  1.99it/s]\u001b[A\n",
      "Loop 2:  40%|███████████████████████████████████████████████████▏                                                                            | 2/5 [00:01<00:01,  1.99it/s]\u001b[A\n",
      "Loop 2:  60%|████████████████████████████████████████████████████████████████████████████▊                                                   | 3/5 [00:01<00:01,  1.99it/s]\u001b[A\n",
      "Loop 2:  80%|██████████████████████████████████████████████████████████████████████████████████████████████████████▍                         | 4/5 [00:02<00:00,  1.99it/s]\u001b[A\n",
      "Loop 2: 100%|████████████████████████████████████████████████████████████████████████████████████████████████████████████████████████████████| 5/5 [00:02<00:00,  1.99it/s]\u001b[A\n",
      "Loop 1:  50%|████████████████████████████████████████████████████████████████                                                                | 1/2 [00:02<00:02,  2.52s/it]\n",
      "Loop 2:   0%|                                                                                                                                        | 0/5 [00:00<?, ?it/s]\u001b[A\n",
      "Loop 2:  20%|█████████████████████████▌                                                                                                      | 1/5 [00:00<00:02,  2.00it/s]\u001b[A\n",
      "Loop 2:  40%|███████████████████████████████████████████████████▏                                                                            | 2/5 [00:01<00:01,  1.99it/s]\u001b[A\n",
      "Loop 2:  60%|████████████████████████████████████████████████████████████████████████████▊                                                   | 3/5 [00:01<00:01,  1.99it/s]\u001b[A\n",
      "Loop 2:  80%|██████████████████████████████████████████████████████████████████████████████████████████████████████▍                         | 4/5 [00:02<00:00,  1.99it/s]\u001b[A\n",
      "Loop 2: 100%|████████████████████████████████████████████████████████████████████████████████████████████████████████████████████████████████| 5/5 [00:02<00:00,  1.98it/s]\u001b[A\n",
      "Loop 1: 100%|████████████████████████████████████████████████████████████████████████████████████████████████████████████████████████████████| 2/2 [00:05<00:00,  2.52s/it]\n"
     ]
    }
   ],
   "source": [
    "for i in tqdm(range(2), desc = 'Loop 1'):\n",
    "    for j in tqdm(range(20,25), desc = 'Loop 2'):\n",
    "        time.sleep(0.5)"
   ]
  },
  {
   "cell_type": "code",
   "execution_count": 4,
   "id": "48392989-519c-4c76-a4fe-d95f2c11b210",
   "metadata": {},
   "outputs": [
    {
     "data": {
      "application/vnd.jupyter.widget-view+json": {
       "model_id": "d2683cd6b7ff4fc79202843c165b1a00",
       "version_major": 2,
       "version_minor": 0
      },
      "text/plain": [
       "Loop 1:   0%|          | 0/2 [00:00<?, ?it/s]"
      ]
     },
     "metadata": {},
     "output_type": "display_data"
    },
    {
     "data": {
      "application/vnd.jupyter.widget-view+json": {
       "model_id": "06449b7d48b749c2b5a88705b2b3c906",
       "version_major": 2,
       "version_minor": 0
      },
      "text/plain": [
       "Loop 2:   0%|          | 0/5 [00:00<?, ?it/s]"
      ]
     },
     "metadata": {},
     "output_type": "display_data"
    },
    {
     "data": {
      "application/vnd.jupyter.widget-view+json": {
       "model_id": "10931a14ded2475e9a46a986baedf9ad",
       "version_major": 2,
       "version_minor": 0
      },
      "text/plain": [
       "Loop 2:   0%|          | 0/5 [00:00<?, ?it/s]"
      ]
     },
     "metadata": {},
     "output_type": "display_data"
    }
   ],
   "source": [
    "for i in tqdm_notebook(range(2), desc = 'Loop 1'):\n",
    "    for j in tqdm_notebook(range(20,25), desc = 'Loop 2'):\n",
    "        time.sleep(0.5)"
   ]
  }
 ],
 "metadata": {
  "kernelspec": {
   "display_name": "Python 3 (ipykernel)",
   "language": "python",
   "name": "python3"
  },
  "language_info": {
   "codemirror_mode": {
    "name": "ipython",
    "version": 3
   },
   "file_extension": ".py",
   "mimetype": "text/x-python",
   "name": "python",
   "nbconvert_exporter": "python",
   "pygments_lexer": "ipython3",
   "version": "3.11.6"
  }
 },
 "nbformat": 4,
 "nbformat_minor": 5
}
