{
 "cells": [
  {
   "cell_type": "code",
   "execution_count": 13,
   "id": "050870bc-4d51-45c2-9b46-22a7b1c75794",
   "metadata": {},
   "outputs": [],
   "source": [
    "import cv2\n",
    "import predictions as pred"
   ]
  },
  {
   "cell_type": "code",
   "execution_count": 16,
   "id": "c49b2321-ed3e-4d83-aba1-1f34321dea00",
   "metadata": {},
   "outputs": [],
   "source": [
    "img = cv2.imread('./data/242.jpeg')\n",
    "\n",
    "cv2.namedWindow('orignal', cv2.WINDOW_NORMAL)\n",
    "cv2.imshow('orignal', img)\n",
    "cv2.waitKey(0)\n",
    "cv2.destroyAllWindows()"
   ]
  },
  {
   "cell_type": "code",
   "execution_count": 18,
   "id": "1d214131-d619-476d-a2c8-8a1f4586d4c0",
   "metadata": {},
   "outputs": [
    {
     "name": "stdout",
     "output_type": "stream",
     "text": [
      "Dr. T. S. Reddy Senior Consultant Traffic Transportation LEA Associates South Asia Pvt. Ltd. LEAdership in Consulting Engineers Planners engineering HL No 1-4-879/54/1A, Street No. 8, p lannin g Near Vijaya Bank, Lower Tank Bund, Gandhinagar, Hyderabad-500080 A.P. India solutions Tel 91-40-66747 122 / 66747135 . Mobile 91-91778 82230 Email tsr@lasaindia.com ————— limmappagari@ymait.com _ ALEA Group company Website - www.lasaindia.com\n",
      "{'NAME': ['Tank'], 'ORG': ['Solutions'], 'DES': [], 'PHONE': ['', '', '122', '66747135', '82230'], 'EMAIL': ['lea', 'email', 'tsr@lasaindia.com', 'limmappagari@ymait.com'], 'WEB': ['reddy', 'senior', 'traffic', 'transportation', 'associates', 'south', 'pvt', 'planners', 'lower', '', 'group', 'website']}\n"
     ]
    }
   ],
   "source": [
    "import pytesseract\n",
    "pytesseract.pytesseract.tesseract_cmd = r'C:\\Program Files\\Tesseract-OCR\\tesseract.exe'\n",
    "\n",
    "\n",
    "img_results, entities = pred.getPredictions(img)\n",
    "\n",
    "print(entities)\n",
    "cv2.namedWindow('predictions', cv2.WINDOW_NORMAL)\n",
    "cv2.imshow('predictions', img_results)\n",
    "cv2.waitKey(0)\n",
    "cv2.destroyAllWindows()"
   ]
  }
 ],
 "metadata": {
  "kernelspec": {
   "display_name": "Python 3 (ipykernel)",
   "language": "python",
   "name": "python3"
  },
  "language_info": {
   "codemirror_mode": {
    "name": "ipython",
    "version": 3
   },
   "file_extension": ".py",
   "mimetype": "text/x-python",
   "name": "python",
   "nbconvert_exporter": "python",
   "pygments_lexer": "ipython3",
   "version": "3.11.6"
  }
 },
 "nbformat": 4,
 "nbformat_minor": 5
}
