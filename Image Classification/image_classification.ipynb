{
 "cells": [
  {
   "cell_type": "code",
   "execution_count": 5,
   "id": "1029ca46-203f-4dad-8a98-1f3748dcbc5d",
   "metadata": {},
   "outputs": [],
   "source": [
    "import numpy as np\n",
    "import os\n",
    "from sklearn.metrics import confusion_matrix\n",
    "import seaborn as sn; sn.set(font_scale=1.4)\n",
    "from sklearn.utils import shuffle           \n",
    "import matplotlib.pyplot as plt             \n",
    "import cv2                                 \n",
    "import tensorflow as tf                \n",
    "from tqdm import tqdm"
   ]
  },
  {
   "cell_type": "code",
   "execution_count": 7,
   "id": "b354ad12-9366-43ac-9306-338bc5f3789e",
   "metadata": {},
   "outputs": [
    {
     "name": "stdout",
     "output_type": "stream",
     "text": [
      "{'mountain': 0, 'street': 1, 'glacier': 2, 'buildings': 3, 'sea': 4, 'forest': 5}\n"
     ]
    }
   ],
   "source": [
    "class_names = ['mountain', 'street', 'glacier', 'buildings', 'sea', 'forest']\n",
    "class_names_label = {class_name:i for i, class_name in enumerate(class_names)}\n",
    "\n",
    "print(class_names_label)\n",
    "\n",
    "nb_classes = len(class_names)\n",
    "\n",
    "IMAGE_SIZE = (150, 150)"
   ]
  },
  {
   "cell_type": "code",
   "execution_count": 10,
   "id": "924db2f8-5b3c-49d7-9cd0-cd6dbd4d0a6e",
   "metadata": {},
   "outputs": [
    {
     "name": "stdout",
     "output_type": "stream",
     "text": [
      " Volume in drive C has no label.\n",
      " Volume Serial Number is 06C6-74B6\n",
      "\n",
      " Directory of C:\\Users\\madhav.kumar\\Documents\\AI\\Image Classification\n",
      "\n",
      "13-12-2023  01.04 PM    <DIR>          .\n",
      "13-12-2023  01.04 PM    <DIR>          ..\n",
      "13-12-2023  12.28 PM    <DIR>          .ipynb_checkpoints\n",
      "04-12-2023  12.54 PM       363,152,213 archive (2).zip\n",
      "05-12-2023  11.53 AM                72 Exploratory Data Analysis(EDA).ipynb\n",
      "05-12-2023  11.52 AM           389,834 image-classification-using-cnn-94-accuracy.ipynb\n",
      "13-12-2023  01.04 PM             4,710 image_classification.ipynb\n",
      "04-12-2023  12.55 PM    <DIR>          intel_data\n",
      "22-11-2023  12.11 PM           134,325 kbs.ipynb\n",
      "13-12-2023  01.01 PM    <DIR>          Ripik_AI\n",
      "03-12-2023  04.19 PM            35,616 sample_submission-3.csv\n",
      "               6 File(s)    363,716,770 bytes\n",
      "               5 Dir(s)  316,634,546,176 bytes free\n"
     ]
    }
   ],
   "source": [
    "!dir"
   ]
  },
  {
   "cell_type": "code",
   "execution_count": 15,
   "id": "9f198f22-c3be-4321-a5de-22a8e34e8cb4",
   "metadata": {},
   "outputs": [],
   "source": [
    "def load_data():\n",
    "    \"\"\"\n",
    "        Load the data:\n",
    "            - 14,034 images to train the network.\n",
    "            - 3,000 images to evaluate how accurately the network learned to classify images.\n",
    "    \"\"\"\n",
    "    \n",
    "    datasets = ['intel_data/seg_train/seg_train', 'intel_data/seg_test/seg_test']\n",
    "    output = []\n",
    "    \n",
    "    # Iterate through training and test sets\n",
    "    for dataset in datasets:\n",
    "        \n",
    "        images = []\n",
    "        labels = []\n",
    "        \n",
    "        print(\"Loading {}\".format(dataset))\n",
    "        \n",
    "        # Iterate through each folder corresponding to a category\n",
    "        for folder in os.listdir(dataset):\n",
    "            label = class_names_label[folder]\n",
    "            \n",
    "            # Iterate through each image in our folder\n",
    "            for file in tqdm(os.listdir(os.path.join(dataset, folder))):\n",
    "                \n",
    "                # Get the path name of the image\n",
    "                img_path = os.path.join(os.path.join(dataset, folder), file)\n",
    "                \n",
    "                # Open and resize the img\n",
    "                image = cv2.imread(img_path)\n",
    "                image = cv2.cvtColor(image, cv2.COLOR_BGR2RGB)\n",
    "                image = cv2.resize(image, IMAGE_SIZE) \n",
    "                \n",
    "                # Append the image and its corresponding label to the output\n",
    "                images.append(image)\n",
    "                labels.append(label)\n",
    "                \n",
    "        images = np.array(images, dtype = 'float32')\n",
    "        labels = np.array(labels, dtype = 'int32')   \n",
    "        \n",
    "        output.append((images, labels))\n",
    "\n",
    "    return output"
   ]
  },
  {
   "cell_type": "code",
   "execution_count": 16,
   "id": "1efca814-4b50-470b-92c2-c35b3c0581f8",
   "metadata": {},
   "outputs": [
    {
     "name": "stdout",
     "output_type": "stream",
     "text": [
      "Loading intel_data/seg_train/seg_train\n"
     ]
    },
    {
     "name": "stderr",
     "output_type": "stream",
     "text": [
      "100%|█████████████████████████████████████████| 2191/2191 [00:02<00:00, 950.89it/s]\n",
      "100%|█████████████████████████████████████████| 2271/2271 [00:02<00:00, 805.19it/s]\n",
      "100%|█████████████████████████████████████████| 2404/2404 [00:02<00:00, 849.95it/s]\n",
      "100%|█████████████████████████████████████████| 2512/2512 [00:02<00:00, 962.40it/s]\n",
      "100%|█████████████████████████████████████████| 2274/2274 [00:02<00:00, 951.31it/s]\n",
      "100%|█████████████████████████████████████████| 2382/2382 [00:02<00:00, 865.22it/s]\n"
     ]
    },
    {
     "name": "stdout",
     "output_type": "stream",
     "text": [
      "Loading intel_data/seg_test/seg_test\n"
     ]
    },
    {
     "name": "stderr",
     "output_type": "stream",
     "text": [
      "100%|███████████████████████████████████████████| 437/437 [00:00<00:00, 707.87it/s]\n",
      "100%|███████████████████████████████████████████| 474/474 [00:00<00:00, 795.05it/s]\n",
      "100%|███████████████████████████████████████████| 553/553 [00:00<00:00, 852.36it/s]\n",
      "100%|██████████████████████████████████████████| 525/525 [00:00<00:00, 1043.20it/s]\n",
      "100%|███████████████████████████████████████████| 510/510 [00:00<00:00, 943.82it/s]\n",
      "100%|███████████████████████████████████████████| 501/501 [00:00<00:00, 899.78it/s]\n"
     ]
    }
   ],
   "source": [
    "(train_images, train_labels), (test_images, test_labels) = load_data()"
   ]
  },
  {
   "cell_type": "code",
   "execution_count": null,
   "id": "45c33de8-df96-4d61-9315-9f6f76714998",
   "metadata": {},
   "outputs": [],
   "source": []
  },
  {
   "cell_type": "code",
   "execution_count": null,
   "id": "096c24eb-f229-480b-b5d6-4212ad5d0acb",
   "metadata": {},
   "outputs": [],
   "source": []
  },
  {
   "cell_type": "code",
   "execution_count": null,
   "id": "447c0a63-42fd-48da-93e7-5f3f59205057",
   "metadata": {},
   "outputs": [],
   "source": []
  },
  {
   "cell_type": "code",
   "execution_count": null,
   "id": "d3674a3b-75c6-4d28-b86a-4fad39b76e71",
   "metadata": {},
   "outputs": [],
   "source": []
  },
  {
   "cell_type": "code",
   "execution_count": null,
   "id": "af690854-054f-4c50-bd9b-e01b7bf1ae6d",
   "metadata": {},
   "outputs": [],
   "source": []
  },
  {
   "cell_type": "code",
   "execution_count": null,
   "id": "81a7031e-2bae-4ae5-80b0-515c012e8618",
   "metadata": {},
   "outputs": [],
   "source": []
  }
 ],
 "metadata": {
  "kernelspec": {
   "display_name": "Python 3 (ipykernel)",
   "language": "python",
   "name": "python3"
  },
  "language_info": {
   "codemirror_mode": {
    "name": "ipython",
    "version": 3
   },
   "file_extension": ".py",
   "mimetype": "text/x-python",
   "name": "python",
   "nbconvert_exporter": "python",
   "pygments_lexer": "ipython3",
   "version": "3.11.6"
  }
 },
 "nbformat": 4,
 "nbformat_minor": 5
}
